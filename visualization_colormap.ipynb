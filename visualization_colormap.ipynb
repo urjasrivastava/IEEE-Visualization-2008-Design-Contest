{
 "cells": [
  {
   "cell_type": "code",
   "execution_count": null,
   "metadata": {},
   "outputs": [],
   "source": [
    "import numpy as np\n",
    "import os\n",
    "import pandas as pd\n",
    "from matplotlib import pyplot as plt\n",
    "import matplotlib.cm as cm\n",
    "from matplotlib import animation\n",
    "import time\n",
    "import math\n",
    "%matplotlib tk"
   ]
  },
  {
   "cell_type": "code",
   "execution_count": 2,
   "metadata": {},
   "outputs": [],
   "source": [
    "#constants \n",
    "scalar_timesteps_file=[r'./zslices.multifield/multifield.0009.zslice.txt',r'./zslices.multifield/multifield.0019.zslice.txt',\n",
    "                      r'./zslices.multifield/multifield.0029.zslice.txt',r'./zslices.multifield/multifield.0039.zslice.txt',\n",
    "                      r'./zslices.multifield/multifield.0049.zslice.txt',r'./zslices.multifield/multifield.0059.zslice.txt',\n",
    "                      r'./zslices.multifield/multifield.0069.zslice.txt',r'./zslices.multifield/multifield.0079.zslice.txt',\n",
    "                      r'./zslices.multifield/multifield.0089.zslice.txt',r'./zslices.multifield/multifield.0099.zslice.txt']\n",
    "\n",
    "scalar_fields = { 0:'total particle density',1:'gas temperature',2:'H mass abundance',3:'H+ mass abundance'}\n",
    "labels ={0:'particles/cm^3 ',1:'degrees Kelvin',2:'fraction of total mass',3:'fraction of total mass'}\n",
    "X = np.arange(600)\n",
    "Y = np.arange(248)\n",
    "Z = np.arange(248)"
   ]
  },
  {
   "cell_type": "code",
   "execution_count": 3,
   "metadata": {},
   "outputs": [],
   "source": [
    "min_value = math.inf\n",
    "max_value = -math.inf\n",
    "def norm_mapper(num_field):\n",
    "    global min_value,max_value,levels\n",
    "    min_value = math.inf\n",
    "    max_value = -math.inf\n",
    "    for time in range(len(scalar_timesteps_file)):\n",
    "        df = pd.read_csv(scalar_timesteps_file[time], sep=\" \", header=None)\n",
    "        values = np.array(df.iloc[:,num_field]).reshape(248,600)\n",
    "        min_value= min(min_value,np.min(values))\n",
    "        max_value= max(max_value,np.max(values))\n"
   ]
  },
  {
   "cell_type": "code",
   "execution_count": 4,
   "metadata": {},
   "outputs": [],
   "source": [
    "flag=True \n",
    "def scalar_plots_cm(timestep,num_field):\n",
    "    global flag\n",
    "    df = pd.read_csv(scalar_timesteps_file[timestep], sep=\" \", header=None)\n",
    "    values = np.array(df.iloc[:,num_field]).reshape(248,600)\n",
    "    plt.title(\"{}\".format(scalar_fields[num_field]))\n",
    "    pc = plt.pcolormesh(X,Y,values,vmin=min_value,vmax=max_value,shading='gouraud', cmap = cm.hot)\n",
    "    if flag:\n",
    "        plt.colorbar(label=labels[num_field])\n",
    "        flag = False\n",
    "    return pc,\n",
    "# sequential cm.hot\n",
    "# diverging  cm.seismic\n",
    "# qualitative cm.Set1"
   ]
  },
  {
   "cell_type": "code",
   "execution_count": 7,
   "metadata": {},
   "outputs": [],
   "source": [
    "#density color map\n",
    "norm_mapper(0)\n",
    "flag=True\n",
    "fig = plt.figure(figsize=(10,5))\n",
    "plt.xlabel(\"X-axis\") \n",
    "plt.ylabel(\"Y-axis\")\n",
    "animator = animation.FuncAnimation(fig, lambda idx: scalar_plots_cm(idx,0),frames=len(scalar_timesteps_file),interval=300,blit=True)\n",
    "plt.show()"
   ]
  },
  {
   "cell_type": "code",
   "execution_count": 8,
   "metadata": {},
   "outputs": [],
   "source": [
    "#temperature color map\n",
    "norm_mapper(1)\n",
    "flag=True\n",
    "fig = plt.figure(figsize=(10,5))\n",
    "plt.xlabel(\"X-axis\") \n",
    "plt.ylabel(\"Y-axis\")\n",
    "animator = animation.FuncAnimation(fig, lambda idx: scalar_plots_cm(idx,1),frames=len(scalar_timesteps_file),interval=300,blit=True)\n",
    "plt.show()"
   ]
  },
  {
   "cell_type": "code",
   "execution_count": 9,
   "metadata": {},
   "outputs": [],
   "source": [
    "#H masss abundance color map\n",
    "norm_mapper(2)\n",
    "flag=True\n",
    "fig = plt.figure(figsize=(10,5))\n",
    "plt.xlabel(\"X-axis\") \n",
    "plt.ylabel(\"Y-axis\")\n",
    "animator = animation.FuncAnimation(fig, lambda idx: scalar_plots_cm(idx,2),frames=len(scalar_timesteps_file),interval=300,blit=True)\n",
    "plt.show()"
   ]
  },
  {
   "cell_type": "code",
   "execution_count": 10,
   "metadata": {},
   "outputs": [],
   "source": [
    "#H+ mass abundance color map\n",
    "norm_mapper(3)\n",
    "flag=True\n",
    "fig = plt.figure(figsize=(10,5))\n",
    "plt.xlabel(\"X-axis\") \n",
    "plt.ylabel(\"Y-axis\")\n",
    "animator = animation.FuncAnimation(fig, lambda idx: scalar_plots_cm(idx,3),frames=len(scalar_timesteps_file),interval=300,blit=True)\n",
    "plt.show()"
   ]
  },
  {
   "cell_type": "code",
   "execution_count": null,
   "metadata": {},
   "outputs": [],
   "source": []
  }
 ],
 "metadata": {
  "kernelspec": {
   "display_name": "Python 3",
   "language": "python",
   "name": "python3"
  },
  "language_info": {
   "codemirror_mode": {
    "name": "ipython",
    "version": 3
   },
   "file_extension": ".py",
   "mimetype": "text/x-python",
   "name": "python",
   "nbconvert_exporter": "python",
   "pygments_lexer": "ipython3",
   "version": "3.6.10"
  }
 },
 "nbformat": 4,
 "nbformat_minor": 4
}
