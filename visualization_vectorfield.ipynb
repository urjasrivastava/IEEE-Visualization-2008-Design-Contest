{
 "cells": [
  {
   "cell_type": "code",
   "execution_count": 1,
   "metadata": {
    "id": "TrMKVWr3Us60"
   },
   "outputs": [],
   "source": [
    "import numpy as np\n",
    "import os\n",
    "import pandas as pd\n",
    "import math\n",
    "from matplotlib import pyplot as plt"
   ]
  },
  {
   "cell_type": "code",
   "execution_count": 2,
   "metadata": {
    "id": "wfERj84XUs65"
   },
   "outputs": [],
   "source": [
    "vector_timesteps_file=[r'./velocity.0009.txt',r'./velocity.0019.txt',\n",
    "                      r'./velocity.0029.txt',r'./velocity.0039.txt',\n",
    "                       r'./velocity.0049.txt',r'./velocity.0059.txt',\n",
    "                       r'./velocity.0069.txt',r'./velocity.0079.txt',\n",
    "                       r'./velocity.0089.txt',r'./velocity.0099.txt'] \n",
    "X, Y= np.meshgrid(np.arange(0,600,1),np.arange(0,248,1))"
   ]
  },
  {
   "cell_type": "code",
   "execution_count": null,
   "metadata": {
    "colab": {
     "base_uri": "https://localhost:8080/",
     "height": 621
    },
    "id": "x0cKQrtnUs67",
    "outputId": "63cf15ca-a914-4191-bbf0-584afb86c475"
   },
   "outputs": [],
   "source": [
    "for time in range(len(vector_timesteps_file)):\n",
    "  df = pd.read_csv(vector_timesteps_file[time], sep=\" \", header=None ,skiprows=8184000, nrows=600*248*2) #z=60\n",
    "  df = df.fillna(0).to_numpy()\n",
    "  curl_x=[]\n",
    "  curl_y=[]\n",
    "  curl_z=[]\n",
    "  curl_mag=[]\n",
    "  for z in range(1):\n",
    "    for y in range(248):\n",
    "        for x in range(600):\n",
    "            a = (df[x+600*(y+1)+600*248*z][2] - df[x+600*(y)+600*248*z][2]-df[x+600*(y)+600*248*(z+1)][1] +df[x+600*(y)+600*248*z][1])/0.001\n",
    "            b = (df[x+600*(y)+600*248*(z+1)][0] - df[x+600*(y)+600*248*z][0]-df[(x+1)+600*(y)+600*248*(z)][2] + df[x+600*(y)+600*248*z][2])/0.001\n",
    "            c = (df[(x+1)+600*(y)+600*248*z][1] - df[x+600*(y)+600*248*z][1]-df[x+600*(y+1)+600*248*(z)][0] +df[x+600*(y)+600*248*z][0])/0.001   \n",
    "            mag= math.sqrt(a*a+b*b+c*c)     \n",
    "            curl_x.append(a)\n",
    "            curl_y.append(b)\n",
    "            curl_z.append(c)\n",
    "            curl_mag.append(mag)\n",
    "  ax = plt.figure(figsize=(20,10))\n",
    "  plt.quiver(X,Y,curl_x,curl_y,curl_mag,scale=17000,cmap=\"hot\")\n",
    "  plt.title(\"vector field\")\n",
    "  plt.xlabel(\"x-axis\")\n",
    "  plt.ylabel(\"y-axis\")\n",
    "  plt.colorbar(label=\"curl magnitude\")\n",
    "  plt.clim(min(curl_mag),max(curl_mag))\n",
    "  plt.savefig('{}.jpg'.format('vector_field'+str(time)))\n",
    "\n",
    "              \n",
    "  #curl[0] = ( vel[x][y+1][z][2] - vel[x][y][z][2] - vel[x][y][z+1][1] + vel[x][y][z][1] ) / 0.001;\n",
    "  #curl[1] = ( vel[x][y][z+1][0] - vel[x][y][z][0] - vel[x+1][y][z][2] + vel[x][y][z][2] ) / 0.001;\n",
    "  #curl[2] = ( vel[x+1][y][z][1] - vel[x][y][z][1] - vel[x][y+1][z][0] + vel[x][y][z][0] ) / 0.001;          "
   ]
  },
  {
   "cell_type": "code",
   "execution_count": null,
   "metadata": {
    "id": "zYxobyAj535-"
   },
   "outputs": [],
   "source": [
    "import cv2\n",
    "import glob\n",
    "frameSize = (1440,720)\n",
    "fourcc = cv2.VideoWriter_fourcc(*'H264')\n",
    "out = cv2.VideoWriter('vector_field.mp4',fourcc,2.0, frameSize)\n",
    "\n",
    "for filename in glob.glob('./vector_field*.jpg'):\n",
    "    img = cv2.imread(filename)\n",
    "    out.write(img)\n",
    "\n",
    "out.release()"
   ]
  },
  {
   "cell_type": "code",
   "execution_count": 3,
   "metadata": {
    "colab": {
     "base_uri": "https://localhost:8080/",
     "height": 521,
     "resources": {
      "http://localhost:8080/vector_field.mp4": {
       "data": "CjwhRE9DVFlQRSBodG1sPgo8aHRtbCBsYW5nPWVuPgogIDxtZXRhIGNoYXJzZXQ9dXRmLTg+CiAgPG1ldGEgbmFtZT12aWV3cG9ydCBjb250ZW50PSJpbml0aWFsLXNjYWxlPTEsIG1pbmltdW0tc2NhbGU9MSwgd2lkdGg9ZGV2aWNlLXdpZHRoIj4KICA8dGl0bGU+RXJyb3IgNDA0IChOb3QgRm91bmQpISExPC90aXRsZT4KICA8c3R5bGU+CiAgICAqe21hcmdpbjowO3BhZGRpbmc6MH1odG1sLGNvZGV7Zm9udDoxNXB4LzIycHggYXJpYWwsc2Fucy1zZXJpZn1odG1se2JhY2tncm91bmQ6I2ZmZjtjb2xvcjojMjIyO3BhZGRpbmc6MTVweH1ib2R5e21hcmdpbjo3JSBhdXRvIDA7bWF4LXdpZHRoOjM5MHB4O21pbi1oZWlnaHQ6MTgwcHg7cGFkZGluZzozMHB4IDAgMTVweH0qID4gYm9keXtiYWNrZ3JvdW5kOnVybCgvL3d3dy5nb29nbGUuY29tL2ltYWdlcy9lcnJvcnMvcm9ib3QucG5nKSAxMDAlIDVweCBuby1yZXBlYXQ7cGFkZGluZy1yaWdodDoyMDVweH1we21hcmdpbjoxMXB4IDAgMjJweDtvdmVyZmxvdzpoaWRkZW59aW5ze2NvbG9yOiM3Nzc7dGV4dC1kZWNvcmF0aW9uOm5vbmV9YSBpbWd7Ym9yZGVyOjB9QG1lZGlhIHNjcmVlbiBhbmQgKG1heC13aWR0aDo3NzJweCl7Ym9keXtiYWNrZ3JvdW5kOm5vbmU7bWFyZ2luLXRvcDowO21heC13aWR0aDpub25lO3BhZGRpbmctcmlnaHQ6MH19I2xvZ297YmFja2dyb3VuZDp1cmwoLy93d3cuZ29vZ2xlLmNvbS9pbWFnZXMvbG9nb3MvZXJyb3JwYWdlL2Vycm9yX2xvZ28tMTUweDU0LnBuZykgbm8tcmVwZWF0O21hcmdpbi1sZWZ0Oi01cHh9QG1lZGlhIG9ubHkgc2NyZWVuIGFuZCAobWluLXJlc29sdXRpb246MTkyZHBpKXsjbG9nb3tiYWNrZ3JvdW5kOnVybCgvL3d3dy5nb29nbGUuY29tL2ltYWdlcy9sb2dvcy9lcnJvcnBhZ2UvZXJyb3JfbG9nby0xNTB4NTQtMngucG5nKSBuby1yZXBlYXQgMCUgMCUvMTAwJSAxMDAlOy1tb3otYm9yZGVyLWltYWdlOnVybCgvL3d3dy5nb29nbGUuY29tL2ltYWdlcy9sb2dvcy9lcnJvcnBhZ2UvZXJyb3JfbG9nby0xNTB4NTQtMngucG5nKSAwfX1AbWVkaWEgb25seSBzY3JlZW4gYW5kICgtd2Via2l0LW1pbi1kZXZpY2UtcGl4ZWwtcmF0aW86Mil7I2xvZ297YmFja2dyb3VuZDp1cmwoLy93d3cuZ29vZ2xlLmNvbS9pbWFnZXMvbG9nb3MvZXJyb3JwYWdlL2Vycm9yX2xvZ28tMTUweDU0LTJ4LnBuZykgbm8tcmVwZWF0Oy13ZWJraXQtYmFja2dyb3VuZC1zaXplOjEwMCUgMTAwJX19I2xvZ297ZGlzcGxheTppbmxpbmUtYmxvY2s7aGVpZ2h0OjU0cHg7d2lkdGg6MTUwcHh9CiAgPC9zdHlsZT4KICA8YSBocmVmPS8vd3d3Lmdvb2dsZS5jb20vPjxzcGFuIGlkPWxvZ28gYXJpYS1sYWJlbD1Hb29nbGU+PC9zcGFuPjwvYT4KICA8cD48Yj40MDQuPC9iPiA8aW5zPlRoYXTigJlzIGFuIGVycm9yLjwvaW5zPgogIDxwPiAgPGlucz5UaGF04oCZcyBhbGwgd2Uga25vdy48L2lucz4K",
       "headers": [
        [
         "content-length",
         "1449"
        ],
        [
         "content-type",
         "text/html; charset=utf-8"
        ]
       ],
       "ok": false,
       "status": 404,
       "status_text": ""
      }
     }
    },
    "id": "WXgpK9FM57WB",
    "outputId": "fa83a63f-14f8-42a5-b685-3bd7c22879c7"
   },
   "outputs": [
    {
     "data": {
      "text/html": [
       "\n",
       "<video width=\"800\" height=\"500\" controls>\n",
       "  <source src=\"./vector_field.mp4\" type=\"video/mp4\">\n",
       "</video>\n"
      ],
      "text/plain": [
       "<IPython.core.display.HTML object>"
      ]
     },
     "execution_count": 3,
     "metadata": {},
     "output_type": "execute_result"
    }
   ],
   "source": [
    "from IPython.display import HTML\n",
    "HTML(\"\"\"\n",
    "<video width=\"800\" height=\"500\" controls>\n",
    "  <source src=\"./vector_field.mp4\" type=\"video/mp4\">\n",
    "</video>\n",
    "\"\"\")"
   ]
  },
  {
   "cell_type": "code",
   "execution_count": null,
   "metadata": {},
   "outputs": [],
   "source": []
  }
 ],
 "metadata": {
  "colab": {
   "collapsed_sections": [],
   "name": "visualization_vectorfield.ipynb",
   "provenance": []
  },
  "kernelspec": {
   "display_name": "Python 3",
   "language": "python",
   "name": "python3"
  },
  "language_info": {
   "codemirror_mode": {
    "name": "ipython",
    "version": 3
   },
   "file_extension": ".py",
   "mimetype": "text/x-python",
   "name": "python",
   "nbconvert_exporter": "python",
   "pygments_lexer": "ipython3",
   "version": "3.6.10"
  }
 },
 "nbformat": 4,
 "nbformat_minor": 1
}
